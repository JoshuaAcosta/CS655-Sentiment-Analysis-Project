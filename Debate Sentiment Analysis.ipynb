{
 "cells": [
  {
   "cell_type": "code",
   "execution_count": 1,
   "metadata": {
    "collapsed": false
   },
   "outputs": [
    {
     "name": "stderr",
     "output_type": "stream",
     "text": [
      "/usr/local/lib/python3.5/site-packages/sklearn/cross_validation.py:44: DeprecationWarning: This module was deprecated in version 0.18 in favor of the model_selection module into which all the refactored classes and functions are moved. Also note that the interface of the new CV iterators are different from that of this module. This module will be removed in 0.20.\n",
      "  \"This module will be removed in 0.20.\", DeprecationWarning)\n"
     ]
    }
   ],
   "source": [
    "import pandas as pd\n",
    "import numpy as np\n",
    "import matplotlib as mpl\n",
    "import matplotlib.pyplot as plt\n",
    "%matplotlib inline\n",
    "from sklearn.model_selection import train_test_split\n",
    "import gensim\n",
    "import random\n",
    "from sklearn.linear_model import SGDClassifier\n",
    "from sklearn.preprocessing import scale\n",
    "from sklearn.naive_bayes import BernoulliNB, GaussianNB\n",
    "from sklearn.svm import SVC\n",
    "from sklearn.linear_model import LogisticRegression\n",
    "from sklearn.metrics import accuracy_score\n",
    "from imblearn.over_sampling import RandomOverSampler\n",
    "from imblearn.under_sampling import RandomUnderSampler\n",
    "from sklearn.model_selection import cross_val_score\n",
    "from sklearn.model_selection import GridSearchCV\n",
    "import seaborn as sns\n",
    "sns.set(style=\"whitegrid\", color_codes=True)"
   ]
  },
  {
   "cell_type": "code",
   "execution_count": 2,
   "metadata": {
    "collapsed": false
   },
   "outputs": [],
   "source": [
    "df = pd.read_csv(\"Sentiment.csv\")"
   ]
  },
  {
   "cell_type": "code",
   "execution_count": 3,
   "metadata": {
    "collapsed": false
   },
   "outputs": [
    {
     "data": {
      "text/plain": [
       "(13871, 21)"
      ]
     },
     "execution_count": 3,
     "metadata": {},
     "output_type": "execute_result"
    }
   ],
   "source": [
    "df.shape"
   ]
  },
  {
   "cell_type": "code",
   "execution_count": 4,
   "metadata": {
    "collapsed": false
   },
   "outputs": [
    {
     "data": {
      "text/html": [
       "<div>\n",
       "<table border=\"1\" class=\"dataframe\">\n",
       "  <thead>\n",
       "    <tr style=\"text-align: right;\">\n",
       "      <th></th>\n",
       "      <th>id</th>\n",
       "      <th>candidate</th>\n",
       "      <th>candidate_confidence</th>\n",
       "      <th>relevant_yn</th>\n",
       "      <th>relevant_yn_confidence</th>\n",
       "      <th>sentiment</th>\n",
       "      <th>sentiment_confidence</th>\n",
       "      <th>subject_matter</th>\n",
       "      <th>subject_matter_confidence</th>\n",
       "      <th>candidate_gold</th>\n",
       "      <th>...</th>\n",
       "      <th>relevant_yn_gold</th>\n",
       "      <th>retweet_count</th>\n",
       "      <th>sentiment_gold</th>\n",
       "      <th>subject_matter_gold</th>\n",
       "      <th>text</th>\n",
       "      <th>tweet_coord</th>\n",
       "      <th>tweet_created</th>\n",
       "      <th>tweet_id</th>\n",
       "      <th>tweet_location</th>\n",
       "      <th>user_timezone</th>\n",
       "    </tr>\n",
       "  </thead>\n",
       "  <tbody>\n",
       "    <tr>\n",
       "      <th>0</th>\n",
       "      <td>1</td>\n",
       "      <td>No candidate mentioned</td>\n",
       "      <td>1.0000</td>\n",
       "      <td>yes</td>\n",
       "      <td>1.0000</td>\n",
       "      <td>Neutral</td>\n",
       "      <td>0.6578</td>\n",
       "      <td>None of the above</td>\n",
       "      <td>1.0000</td>\n",
       "      <td>NaN</td>\n",
       "      <td>...</td>\n",
       "      <td>NaN</td>\n",
       "      <td>5</td>\n",
       "      <td>NaN</td>\n",
       "      <td>NaN</td>\n",
       "      <td>RT @NancyLeeGrahn: How did everyone feel about...</td>\n",
       "      <td>NaN</td>\n",
       "      <td>2015-08-07 09:54:46 -0700</td>\n",
       "      <td>629697200650592256</td>\n",
       "      <td>NaN</td>\n",
       "      <td>Quito</td>\n",
       "    </tr>\n",
       "    <tr>\n",
       "      <th>1</th>\n",
       "      <td>2</td>\n",
       "      <td>Scott Walker</td>\n",
       "      <td>1.0000</td>\n",
       "      <td>yes</td>\n",
       "      <td>1.0000</td>\n",
       "      <td>Positive</td>\n",
       "      <td>0.6333</td>\n",
       "      <td>None of the above</td>\n",
       "      <td>1.0000</td>\n",
       "      <td>NaN</td>\n",
       "      <td>...</td>\n",
       "      <td>NaN</td>\n",
       "      <td>26</td>\n",
       "      <td>NaN</td>\n",
       "      <td>NaN</td>\n",
       "      <td>RT @ScottWalker: Didn't catch the full #GOPdeb...</td>\n",
       "      <td>NaN</td>\n",
       "      <td>2015-08-07 09:54:46 -0700</td>\n",
       "      <td>629697199560069120</td>\n",
       "      <td>NaN</td>\n",
       "      <td>NaN</td>\n",
       "    </tr>\n",
       "    <tr>\n",
       "      <th>2</th>\n",
       "      <td>3</td>\n",
       "      <td>No candidate mentioned</td>\n",
       "      <td>1.0000</td>\n",
       "      <td>yes</td>\n",
       "      <td>1.0000</td>\n",
       "      <td>Neutral</td>\n",
       "      <td>0.6629</td>\n",
       "      <td>None of the above</td>\n",
       "      <td>0.6629</td>\n",
       "      <td>NaN</td>\n",
       "      <td>...</td>\n",
       "      <td>NaN</td>\n",
       "      <td>27</td>\n",
       "      <td>NaN</td>\n",
       "      <td>NaN</td>\n",
       "      <td>RT @TJMShow: No mention of Tamir Rice and the ...</td>\n",
       "      <td>NaN</td>\n",
       "      <td>2015-08-07 09:54:46 -0700</td>\n",
       "      <td>629697199312482304</td>\n",
       "      <td>NaN</td>\n",
       "      <td>NaN</td>\n",
       "    </tr>\n",
       "    <tr>\n",
       "      <th>3</th>\n",
       "      <td>4</td>\n",
       "      <td>No candidate mentioned</td>\n",
       "      <td>1.0000</td>\n",
       "      <td>yes</td>\n",
       "      <td>1.0000</td>\n",
       "      <td>Positive</td>\n",
       "      <td>1.0000</td>\n",
       "      <td>None of the above</td>\n",
       "      <td>0.7039</td>\n",
       "      <td>NaN</td>\n",
       "      <td>...</td>\n",
       "      <td>NaN</td>\n",
       "      <td>138</td>\n",
       "      <td>NaN</td>\n",
       "      <td>NaN</td>\n",
       "      <td>RT @RobGeorge: That Carly Fiorina is trending ...</td>\n",
       "      <td>NaN</td>\n",
       "      <td>2015-08-07 09:54:45 -0700</td>\n",
       "      <td>629697197118861312</td>\n",
       "      <td>Texas</td>\n",
       "      <td>Central Time (US &amp; Canada)</td>\n",
       "    </tr>\n",
       "    <tr>\n",
       "      <th>4</th>\n",
       "      <td>5</td>\n",
       "      <td>Donald Trump</td>\n",
       "      <td>1.0000</td>\n",
       "      <td>yes</td>\n",
       "      <td>1.0000</td>\n",
       "      <td>Positive</td>\n",
       "      <td>0.7045</td>\n",
       "      <td>None of the above</td>\n",
       "      <td>1.0000</td>\n",
       "      <td>NaN</td>\n",
       "      <td>...</td>\n",
       "      <td>NaN</td>\n",
       "      <td>156</td>\n",
       "      <td>NaN</td>\n",
       "      <td>NaN</td>\n",
       "      <td>RT @DanScavino: #GOPDebate w/ @realDonaldTrump...</td>\n",
       "      <td>NaN</td>\n",
       "      <td>2015-08-07 09:54:45 -0700</td>\n",
       "      <td>629697196967903232</td>\n",
       "      <td>NaN</td>\n",
       "      <td>Arizona</td>\n",
       "    </tr>\n",
       "    <tr>\n",
       "      <th>5</th>\n",
       "      <td>6</td>\n",
       "      <td>Ted Cruz</td>\n",
       "      <td>0.6332</td>\n",
       "      <td>yes</td>\n",
       "      <td>1.0000</td>\n",
       "      <td>Positive</td>\n",
       "      <td>0.6332</td>\n",
       "      <td>None of the above</td>\n",
       "      <td>1.0000</td>\n",
       "      <td>NaN</td>\n",
       "      <td>...</td>\n",
       "      <td>NaN</td>\n",
       "      <td>228</td>\n",
       "      <td>NaN</td>\n",
       "      <td>NaN</td>\n",
       "      <td>RT @GregAbbott_TX: @TedCruz: \"On my first day ...</td>\n",
       "      <td>NaN</td>\n",
       "      <td>2015-08-07 09:54:44 -0700</td>\n",
       "      <td>629697194283499520</td>\n",
       "      <td>NaN</td>\n",
       "      <td>Central Time (US &amp; Canada)</td>\n",
       "    </tr>\n",
       "    <tr>\n",
       "      <th>6</th>\n",
       "      <td>7</td>\n",
       "      <td>No candidate mentioned</td>\n",
       "      <td>1.0000</td>\n",
       "      <td>yes</td>\n",
       "      <td>1.0000</td>\n",
       "      <td>Negative</td>\n",
       "      <td>0.6761</td>\n",
       "      <td>FOX News or Moderators</td>\n",
       "      <td>1.0000</td>\n",
       "      <td>NaN</td>\n",
       "      <td>...</td>\n",
       "      <td>NaN</td>\n",
       "      <td>17</td>\n",
       "      <td>NaN</td>\n",
       "      <td>NaN</td>\n",
       "      <td>RT @warriorwoman91: I liked her and was happy ...</td>\n",
       "      <td>NaN</td>\n",
       "      <td>2015-08-07 09:54:44 -0700</td>\n",
       "      <td>629697192383672320</td>\n",
       "      <td>North Georgia</td>\n",
       "      <td>Eastern Time (US &amp; Canada)</td>\n",
       "    </tr>\n",
       "    <tr>\n",
       "      <th>7</th>\n",
       "      <td>8</td>\n",
       "      <td>No candidate mentioned</td>\n",
       "      <td>1.0000</td>\n",
       "      <td>yes</td>\n",
       "      <td>1.0000</td>\n",
       "      <td>Neutral</td>\n",
       "      <td>1.0000</td>\n",
       "      <td>None of the above</td>\n",
       "      <td>1.0000</td>\n",
       "      <td>NaN</td>\n",
       "      <td>...</td>\n",
       "      <td>NaN</td>\n",
       "      <td>0</td>\n",
       "      <td>NaN</td>\n",
       "      <td>NaN</td>\n",
       "      <td>Going on #MSNBC Live with @ThomasARoberts arou...</td>\n",
       "      <td>NaN</td>\n",
       "      <td>2015-08-07 09:54:44 -0700</td>\n",
       "      <td>629697192169750528</td>\n",
       "      <td>New York NY</td>\n",
       "      <td>Eastern Time (US &amp; Canada)</td>\n",
       "    </tr>\n",
       "    <tr>\n",
       "      <th>8</th>\n",
       "      <td>9</td>\n",
       "      <td>Ben Carson</td>\n",
       "      <td>1.0000</td>\n",
       "      <td>yes</td>\n",
       "      <td>1.0000</td>\n",
       "      <td>Negative</td>\n",
       "      <td>0.6889</td>\n",
       "      <td>None of the above</td>\n",
       "      <td>0.6444</td>\n",
       "      <td>NaN</td>\n",
       "      <td>...</td>\n",
       "      <td>NaN</td>\n",
       "      <td>0</td>\n",
       "      <td>NaN</td>\n",
       "      <td>NaN</td>\n",
       "      <td>Deer in the headlights RT @lizzwinstead: Ben C...</td>\n",
       "      <td>NaN</td>\n",
       "      <td>2015-08-07 09:54:44 -0700</td>\n",
       "      <td>629697190219243524</td>\n",
       "      <td>NaN</td>\n",
       "      <td>Pacific Time (US &amp; Canada)</td>\n",
       "    </tr>\n",
       "    <tr>\n",
       "      <th>9</th>\n",
       "      <td>10</td>\n",
       "      <td>No candidate mentioned</td>\n",
       "      <td>0.4594</td>\n",
       "      <td>yes</td>\n",
       "      <td>0.6778</td>\n",
       "      <td>Negative</td>\n",
       "      <td>0.6778</td>\n",
       "      <td>None of the above</td>\n",
       "      <td>0.4594</td>\n",
       "      <td>NaN</td>\n",
       "      <td>...</td>\n",
       "      <td>NaN</td>\n",
       "      <td>1</td>\n",
       "      <td>NaN</td>\n",
       "      <td>NaN</td>\n",
       "      <td>RT @NancyOsborne180: Last night's debate prove...</td>\n",
       "      <td>NaN</td>\n",
       "      <td>2015-08-07 09:54:42 -0700</td>\n",
       "      <td>629697185093824512</td>\n",
       "      <td>NaN</td>\n",
       "      <td>NaN</td>\n",
       "    </tr>\n",
       "    <tr>\n",
       "      <th>10</th>\n",
       "      <td>11</td>\n",
       "      <td>Donald Trump</td>\n",
       "      <td>1.0000</td>\n",
       "      <td>yes</td>\n",
       "      <td>1.0000</td>\n",
       "      <td>Negative</td>\n",
       "      <td>1.0000</td>\n",
       "      <td>None of the above</td>\n",
       "      <td>1.0000</td>\n",
       "      <td>NaN</td>\n",
       "      <td>...</td>\n",
       "      <td>NaN</td>\n",
       "      <td>0</td>\n",
       "      <td>NaN</td>\n",
       "      <td>NaN</td>\n",
       "      <td>@JGreenDC @realDonaldTrump In all fairness #Bi...</td>\n",
       "      <td>NaN</td>\n",
       "      <td>2015-08-07 09:54:42 -0700</td>\n",
       "      <td>629697185072988160</td>\n",
       "      <td>Peoria, IL</td>\n",
       "      <td>Central Time (US &amp; Canada)</td>\n",
       "    </tr>\n",
       "    <tr>\n",
       "      <th>11</th>\n",
       "      <td>12</td>\n",
       "      <td>Mike Huckabee</td>\n",
       "      <td>1.0000</td>\n",
       "      <td>yes</td>\n",
       "      <td>1.0000</td>\n",
       "      <td>Positive</td>\n",
       "      <td>1.0000</td>\n",
       "      <td>Foreign Policy</td>\n",
       "      <td>0.6520</td>\n",
       "      <td>NaN</td>\n",
       "      <td>...</td>\n",
       "      <td>NaN</td>\n",
       "      <td>188</td>\n",
       "      <td>NaN</td>\n",
       "      <td>NaN</td>\n",
       "      <td>RT @WayneDupreeShow: Just woke up to tweet thi...</td>\n",
       "      <td>NaN</td>\n",
       "      <td>2015-08-07 09:54:42 -0700</td>\n",
       "      <td>629697184259305472</td>\n",
       "      <td>Fargo, ND</td>\n",
       "      <td>Central Time (US &amp; Canada)</td>\n",
       "    </tr>\n",
       "    <tr>\n",
       "      <th>12</th>\n",
       "      <td>13</td>\n",
       "      <td>No candidate mentioned</td>\n",
       "      <td>1.0000</td>\n",
       "      <td>yes</td>\n",
       "      <td>1.0000</td>\n",
       "      <td>Negative</td>\n",
       "      <td>0.6957</td>\n",
       "      <td>None of the above</td>\n",
       "      <td>1.0000</td>\n",
       "      <td>NaN</td>\n",
       "      <td>...</td>\n",
       "      <td>NaN</td>\n",
       "      <td>0</td>\n",
       "      <td>NaN</td>\n",
       "      <td>NaN</td>\n",
       "      <td>Me reading my family's comments about how grea...</td>\n",
       "      <td>NaN</td>\n",
       "      <td>2015-08-07 09:54:42 -0700</td>\n",
       "      <td>629697183499943936</td>\n",
       "      <td>NaN</td>\n",
       "      <td>NaN</td>\n",
       "    </tr>\n",
       "    <tr>\n",
       "      <th>13</th>\n",
       "      <td>14</td>\n",
       "      <td>Jeb Bush</td>\n",
       "      <td>0.6947</td>\n",
       "      <td>yes</td>\n",
       "      <td>1.0000</td>\n",
       "      <td>Neutral</td>\n",
       "      <td>0.6421</td>\n",
       "      <td>Foreign Policy</td>\n",
       "      <td>1.0000</td>\n",
       "      <td>NaN</td>\n",
       "      <td>...</td>\n",
       "      <td>NaN</td>\n",
       "      <td>5</td>\n",
       "      <td>NaN</td>\n",
       "      <td>NaN</td>\n",
       "      <td>RT @ArcticFox2016: RT @AllenWestRepub \"Dear @J...</td>\n",
       "      <td>NaN</td>\n",
       "      <td>2015-08-07 09:54:42 -0700</td>\n",
       "      <td>629697183210696705</td>\n",
       "      <td>Montgomery, AL</td>\n",
       "      <td>Central Time (US &amp; Canada)</td>\n",
       "    </tr>\n",
       "    <tr>\n",
       "      <th>14</th>\n",
       "      <td>15</td>\n",
       "      <td>Scott Walker</td>\n",
       "      <td>1.0000</td>\n",
       "      <td>yes</td>\n",
       "      <td>1.0000</td>\n",
       "      <td>Positive</td>\n",
       "      <td>1.0000</td>\n",
       "      <td>None of the above</td>\n",
       "      <td>1.0000</td>\n",
       "      <td>NaN</td>\n",
       "      <td>...</td>\n",
       "      <td>NaN</td>\n",
       "      <td>215</td>\n",
       "      <td>NaN</td>\n",
       "      <td>NaN</td>\n",
       "      <td>RT @pattonoswalt: I loved Scott Walker as Mark...</td>\n",
       "      <td>NaN</td>\n",
       "      <td>2015-08-07 09:54:42 -0700</td>\n",
       "      <td>629697182828892161</td>\n",
       "      <td>San Diego, California</td>\n",
       "      <td>Pacific Time (US &amp; Canada)</td>\n",
       "    </tr>\n",
       "    <tr>\n",
       "      <th>15</th>\n",
       "      <td>16</td>\n",
       "      <td>Chris Christie</td>\n",
       "      <td>1.0000</td>\n",
       "      <td>yes</td>\n",
       "      <td>1.0000</td>\n",
       "      <td>Negative</td>\n",
       "      <td>1.0000</td>\n",
       "      <td>None of the above</td>\n",
       "      <td>0.6778</td>\n",
       "      <td>NaN</td>\n",
       "      <td>...</td>\n",
       "      <td>NaN</td>\n",
       "      <td>0</td>\n",
       "      <td>NaN</td>\n",
       "      <td>NaN</td>\n",
       "      <td>Hey @ChrisChristie exploiting the tragedy of 9...</td>\n",
       "      <td>NaN</td>\n",
       "      <td>2015-08-07 09:54:41 -0700</td>\n",
       "      <td>629697179515535360</td>\n",
       "      <td>NaN</td>\n",
       "      <td>Central Time (US &amp; Canada)</td>\n",
       "    </tr>\n",
       "    <tr>\n",
       "      <th>16</th>\n",
       "      <td>17</td>\n",
       "      <td>Donald Trump</td>\n",
       "      <td>0.3923</td>\n",
       "      <td>yes</td>\n",
       "      <td>0.6264</td>\n",
       "      <td>Negative</td>\n",
       "      <td>0.6264</td>\n",
       "      <td>Women's Issues (not abortion though)</td>\n",
       "      <td>0.3923</td>\n",
       "      <td>NaN</td>\n",
       "      <td>...</td>\n",
       "      <td>NaN</td>\n",
       "      <td>45</td>\n",
       "      <td>NaN</td>\n",
       "      <td>NaN</td>\n",
       "      <td>RT @CarolCNN: #DonaldTrump under fire for comm...</td>\n",
       "      <td>NaN</td>\n",
       "      <td>2015-08-07 09:54:41 -0700</td>\n",
       "      <td>629697178362093568</td>\n",
       "      <td>NaN</td>\n",
       "      <td>NaN</td>\n",
       "    </tr>\n",
       "    <tr>\n",
       "      <th>17</th>\n",
       "      <td>18</td>\n",
       "      <td>Donald Trump</td>\n",
       "      <td>0.6404</td>\n",
       "      <td>yes</td>\n",
       "      <td>1.0000</td>\n",
       "      <td>Negative</td>\n",
       "      <td>0.6629</td>\n",
       "      <td>FOX News or Moderators</td>\n",
       "      <td>1.0000</td>\n",
       "      <td>NaN</td>\n",
       "      <td>...</td>\n",
       "      <td>NaN</td>\n",
       "      <td>7</td>\n",
       "      <td>NaN</td>\n",
       "      <td>NaN</td>\n",
       "      <td>RT @johncardillo: Guess who had most speaking ...</td>\n",
       "      <td>NaN</td>\n",
       "      <td>2015-08-07 09:54:40 -0700</td>\n",
       "      <td>629697177485312000</td>\n",
       "      <td>NaN</td>\n",
       "      <td>Mountain Time (US &amp; Canada)</td>\n",
       "    </tr>\n",
       "    <tr>\n",
       "      <th>18</th>\n",
       "      <td>19</td>\n",
       "      <td>No candidate mentioned</td>\n",
       "      <td>1.0000</td>\n",
       "      <td>yes</td>\n",
       "      <td>1.0000</td>\n",
       "      <td>Negative</td>\n",
       "      <td>1.0000</td>\n",
       "      <td>None of the above</td>\n",
       "      <td>0.6860</td>\n",
       "      <td>NaN</td>\n",
       "      <td>...</td>\n",
       "      <td>NaN</td>\n",
       "      <td>0</td>\n",
       "      <td>NaN</td>\n",
       "      <td>NaN</td>\n",
       "      <td>reason comment is funny 'in case you're ignora...</td>\n",
       "      <td>NaN</td>\n",
       "      <td>2015-08-07 09:54:40 -0700</td>\n",
       "      <td>629697176642449408</td>\n",
       "      <td>NaN</td>\n",
       "      <td>Eastern Time (US &amp; Canada)</td>\n",
       "    </tr>\n",
       "    <tr>\n",
       "      <th>19</th>\n",
       "      <td>20</td>\n",
       "      <td>Mike Huckabee</td>\n",
       "      <td>1.0000</td>\n",
       "      <td>yes</td>\n",
       "      <td>1.0000</td>\n",
       "      <td>Negative</td>\n",
       "      <td>0.6669</td>\n",
       "      <td>LGBT issues</td>\n",
       "      <td>1.0000</td>\n",
       "      <td>NaN</td>\n",
       "      <td>...</td>\n",
       "      <td>NaN</td>\n",
       "      <td>93</td>\n",
       "      <td>NaN</td>\n",
       "      <td>NaN</td>\n",
       "      <td>RT @PamelaGeller: Huckabee: Paying for transge...</td>\n",
       "      <td>NaN</td>\n",
       "      <td>2015-08-07 09:54:40 -0700</td>\n",
       "      <td>629697175979585536</td>\n",
       "      <td>NJ</td>\n",
       "      <td>Eastern Time (US &amp; Canada)</td>\n",
       "    </tr>\n",
       "  </tbody>\n",
       "</table>\n",
       "<p>20 rows × 21 columns</p>\n",
       "</div>"
      ],
      "text/plain": [
       "    id               candidate  candidate_confidence relevant_yn  \\\n",
       "0    1  No candidate mentioned                1.0000         yes   \n",
       "1    2            Scott Walker                1.0000         yes   \n",
       "2    3  No candidate mentioned                1.0000         yes   \n",
       "3    4  No candidate mentioned                1.0000         yes   \n",
       "4    5            Donald Trump                1.0000         yes   \n",
       "5    6                Ted Cruz                0.6332         yes   \n",
       "6    7  No candidate mentioned                1.0000         yes   \n",
       "7    8  No candidate mentioned                1.0000         yes   \n",
       "8    9              Ben Carson                1.0000         yes   \n",
       "9   10  No candidate mentioned                0.4594         yes   \n",
       "10  11            Donald Trump                1.0000         yes   \n",
       "11  12           Mike Huckabee                1.0000         yes   \n",
       "12  13  No candidate mentioned                1.0000         yes   \n",
       "13  14                Jeb Bush                0.6947         yes   \n",
       "14  15            Scott Walker                1.0000         yes   \n",
       "15  16          Chris Christie                1.0000         yes   \n",
       "16  17            Donald Trump                0.3923         yes   \n",
       "17  18            Donald Trump                0.6404         yes   \n",
       "18  19  No candidate mentioned                1.0000         yes   \n",
       "19  20           Mike Huckabee                1.0000         yes   \n",
       "\n",
       "    relevant_yn_confidence sentiment  sentiment_confidence  \\\n",
       "0                   1.0000   Neutral                0.6578   \n",
       "1                   1.0000  Positive                0.6333   \n",
       "2                   1.0000   Neutral                0.6629   \n",
       "3                   1.0000  Positive                1.0000   \n",
       "4                   1.0000  Positive                0.7045   \n",
       "5                   1.0000  Positive                0.6332   \n",
       "6                   1.0000  Negative                0.6761   \n",
       "7                   1.0000   Neutral                1.0000   \n",
       "8                   1.0000  Negative                0.6889   \n",
       "9                   0.6778  Negative                0.6778   \n",
       "10                  1.0000  Negative                1.0000   \n",
       "11                  1.0000  Positive                1.0000   \n",
       "12                  1.0000  Negative                0.6957   \n",
       "13                  1.0000   Neutral                0.6421   \n",
       "14                  1.0000  Positive                1.0000   \n",
       "15                  1.0000  Negative                1.0000   \n",
       "16                  0.6264  Negative                0.6264   \n",
       "17                  1.0000  Negative                0.6629   \n",
       "18                  1.0000  Negative                1.0000   \n",
       "19                  1.0000  Negative                0.6669   \n",
       "\n",
       "                          subject_matter  subject_matter_confidence  \\\n",
       "0                      None of the above                     1.0000   \n",
       "1                      None of the above                     1.0000   \n",
       "2                      None of the above                     0.6629   \n",
       "3                      None of the above                     0.7039   \n",
       "4                      None of the above                     1.0000   \n",
       "5                      None of the above                     1.0000   \n",
       "6                 FOX News or Moderators                     1.0000   \n",
       "7                      None of the above                     1.0000   \n",
       "8                      None of the above                     0.6444   \n",
       "9                      None of the above                     0.4594   \n",
       "10                     None of the above                     1.0000   \n",
       "11                        Foreign Policy                     0.6520   \n",
       "12                     None of the above                     1.0000   \n",
       "13                        Foreign Policy                     1.0000   \n",
       "14                     None of the above                     1.0000   \n",
       "15                     None of the above                     0.6778   \n",
       "16  Women's Issues (not abortion though)                     0.3923   \n",
       "17                FOX News or Moderators                     1.0000   \n",
       "18                     None of the above                     0.6860   \n",
       "19                           LGBT issues                     1.0000   \n",
       "\n",
       "   candidate_gold             ...              relevant_yn_gold retweet_count  \\\n",
       "0             NaN             ...                           NaN             5   \n",
       "1             NaN             ...                           NaN            26   \n",
       "2             NaN             ...                           NaN            27   \n",
       "3             NaN             ...                           NaN           138   \n",
       "4             NaN             ...                           NaN           156   \n",
       "5             NaN             ...                           NaN           228   \n",
       "6             NaN             ...                           NaN            17   \n",
       "7             NaN             ...                           NaN             0   \n",
       "8             NaN             ...                           NaN             0   \n",
       "9             NaN             ...                           NaN             1   \n",
       "10            NaN             ...                           NaN             0   \n",
       "11            NaN             ...                           NaN           188   \n",
       "12            NaN             ...                           NaN             0   \n",
       "13            NaN             ...                           NaN             5   \n",
       "14            NaN             ...                           NaN           215   \n",
       "15            NaN             ...                           NaN             0   \n",
       "16            NaN             ...                           NaN            45   \n",
       "17            NaN             ...                           NaN             7   \n",
       "18            NaN             ...                           NaN             0   \n",
       "19            NaN             ...                           NaN            93   \n",
       "\n",
       "    sentiment_gold subject_matter_gold  \\\n",
       "0              NaN                 NaN   \n",
       "1              NaN                 NaN   \n",
       "2              NaN                 NaN   \n",
       "3              NaN                 NaN   \n",
       "4              NaN                 NaN   \n",
       "5              NaN                 NaN   \n",
       "6              NaN                 NaN   \n",
       "7              NaN                 NaN   \n",
       "8              NaN                 NaN   \n",
       "9              NaN                 NaN   \n",
       "10             NaN                 NaN   \n",
       "11             NaN                 NaN   \n",
       "12             NaN                 NaN   \n",
       "13             NaN                 NaN   \n",
       "14             NaN                 NaN   \n",
       "15             NaN                 NaN   \n",
       "16             NaN                 NaN   \n",
       "17             NaN                 NaN   \n",
       "18             NaN                 NaN   \n",
       "19             NaN                 NaN   \n",
       "\n",
       "                                                 text tweet_coord  \\\n",
       "0   RT @NancyLeeGrahn: How did everyone feel about...         NaN   \n",
       "1   RT @ScottWalker: Didn't catch the full #GOPdeb...         NaN   \n",
       "2   RT @TJMShow: No mention of Tamir Rice and the ...         NaN   \n",
       "3   RT @RobGeorge: That Carly Fiorina is trending ...         NaN   \n",
       "4   RT @DanScavino: #GOPDebate w/ @realDonaldTrump...         NaN   \n",
       "5   RT @GregAbbott_TX: @TedCruz: \"On my first day ...         NaN   \n",
       "6   RT @warriorwoman91: I liked her and was happy ...         NaN   \n",
       "7   Going on #MSNBC Live with @ThomasARoberts arou...         NaN   \n",
       "8   Deer in the headlights RT @lizzwinstead: Ben C...         NaN   \n",
       "9   RT @NancyOsborne180: Last night's debate prove...         NaN   \n",
       "10  @JGreenDC @realDonaldTrump In all fairness #Bi...         NaN   \n",
       "11  RT @WayneDupreeShow: Just woke up to tweet thi...         NaN   \n",
       "12  Me reading my family's comments about how grea...         NaN   \n",
       "13  RT @ArcticFox2016: RT @AllenWestRepub \"Dear @J...         NaN   \n",
       "14  RT @pattonoswalt: I loved Scott Walker as Mark...         NaN   \n",
       "15  Hey @ChrisChristie exploiting the tragedy of 9...         NaN   \n",
       "16  RT @CarolCNN: #DonaldTrump under fire for comm...         NaN   \n",
       "17  RT @johncardillo: Guess who had most speaking ...         NaN   \n",
       "18  reason comment is funny 'in case you're ignora...         NaN   \n",
       "19  RT @PamelaGeller: Huckabee: Paying for transge...         NaN   \n",
       "\n",
       "                tweet_created            tweet_id         tweet_location  \\\n",
       "0   2015-08-07 09:54:46 -0700  629697200650592256                    NaN   \n",
       "1   2015-08-07 09:54:46 -0700  629697199560069120                    NaN   \n",
       "2   2015-08-07 09:54:46 -0700  629697199312482304                    NaN   \n",
       "3   2015-08-07 09:54:45 -0700  629697197118861312                  Texas   \n",
       "4   2015-08-07 09:54:45 -0700  629697196967903232                    NaN   \n",
       "5   2015-08-07 09:54:44 -0700  629697194283499520                    NaN   \n",
       "6   2015-08-07 09:54:44 -0700  629697192383672320          North Georgia   \n",
       "7   2015-08-07 09:54:44 -0700  629697192169750528            New York NY   \n",
       "8   2015-08-07 09:54:44 -0700  629697190219243524                    NaN   \n",
       "9   2015-08-07 09:54:42 -0700  629697185093824512                    NaN   \n",
       "10  2015-08-07 09:54:42 -0700  629697185072988160             Peoria, IL   \n",
       "11  2015-08-07 09:54:42 -0700  629697184259305472              Fargo, ND   \n",
       "12  2015-08-07 09:54:42 -0700  629697183499943936                    NaN   \n",
       "13  2015-08-07 09:54:42 -0700  629697183210696705        Montgomery, AL    \n",
       "14  2015-08-07 09:54:42 -0700  629697182828892161  San Diego, California   \n",
       "15  2015-08-07 09:54:41 -0700  629697179515535360                    NaN   \n",
       "16  2015-08-07 09:54:41 -0700  629697178362093568                    NaN   \n",
       "17  2015-08-07 09:54:40 -0700  629697177485312000                    NaN   \n",
       "18  2015-08-07 09:54:40 -0700  629697176642449408                    NaN   \n",
       "19  2015-08-07 09:54:40 -0700  629697175979585536                     NJ   \n",
       "\n",
       "                  user_timezone  \n",
       "0                         Quito  \n",
       "1                           NaN  \n",
       "2                           NaN  \n",
       "3    Central Time (US & Canada)  \n",
       "4                       Arizona  \n",
       "5    Central Time (US & Canada)  \n",
       "6    Eastern Time (US & Canada)  \n",
       "7    Eastern Time (US & Canada)  \n",
       "8    Pacific Time (US & Canada)  \n",
       "9                           NaN  \n",
       "10   Central Time (US & Canada)  \n",
       "11   Central Time (US & Canada)  \n",
       "12                          NaN  \n",
       "13   Central Time (US & Canada)  \n",
       "14   Pacific Time (US & Canada)  \n",
       "15   Central Time (US & Canada)  \n",
       "16                          NaN  \n",
       "17  Mountain Time (US & Canada)  \n",
       "18   Eastern Time (US & Canada)  \n",
       "19   Eastern Time (US & Canada)  \n",
       "\n",
       "[20 rows x 21 columns]"
      ]
     },
     "execution_count": 4,
     "metadata": {},
     "output_type": "execute_result"
    }
   ],
   "source": [
    "df.head(20)"
   ]
  },
  {
   "cell_type": "code",
   "execution_count": 5,
   "metadata": {
    "collapsed": false
   },
   "outputs": [
    {
     "data": {
      "text/plain": [
       "Negative    8493\n",
       "Neutral     3142\n",
       "Positive    2236\n",
       "Name: sentiment, dtype: int64"
      ]
     },
     "execution_count": 5,
     "metadata": {},
     "output_type": "execute_result"
    }
   ],
   "source": [
    "df.sentiment.value_counts()"
   ]
  },
  {
   "cell_type": "code",
   "execution_count": 6,
   "metadata": {
    "collapsed": false
   },
   "outputs": [
    {
     "data": {
      "text/plain": [
       "<matplotlib.text.Text at 0x10e63abe0>"
      ]
     },
     "execution_count": 6,
     "metadata": {},
     "output_type": "execute_result"
    },
    {
     "data": {
      "image/png": "[encoded data removed]",
      "text/plain": [
       "<matplotlib.figure.Figure at 0x10e5b8278>"
      ]
     },
     "metadata": {},
     "output_type": "display_data"
    }
   ],
   "source": [
    "#Sentiment of each candidate\n",
    "sns.countplot(y=\"candidate\", hue=\"sentiment\", data=df, palette=\"Blues_d\");\n",
    "sns.plt.title('Tweet Sentiment Breakdown By Candidate')"
   ]
  },
  {
   "cell_type": "code",
   "execution_count": 7,
   "metadata": {
    "collapsed": false
   },
   "outputs": [
    {
     "data": {
      "text/plain": [
       "<matplotlib.text.Text at 0x10e77c7b8>"
      ]
     },
     "execution_count": 7,
     "metadata": {},
     "output_type": "execute_result"
    },
    {
     "data": {
      "image/png": "[encoded data removed]",
      "text/plain": [
       "<matplotlib.figure.Figure at 0x10e5b8e80>"
      ]
     },
     "metadata": {},
     "output_type": "display_data"
    }
   ],
   "source": [
    "sns.countplot(x=\"sentiment\", data=df, palette=\"Blues_d\")\n",
    "sns.plt.title('Tweet Sentiment Breakdown')\n"
   ]
  },
  {
   "cell_type": "code",
   "execution_count": 8,
   "metadata": {
    "collapsed": false
   },
   "outputs": [],
   "source": [
    "x_train, x_test, y_train, y_test = train_test_split(df[\"text\"],df[\"sentiment\"], test_size=0.3)"
   ]
  },
  {
   "cell_type": "code",
   "execution_count": 9,
   "metadata": {
    "collapsed": true
   },
   "outputs": [],
   "source": [
    "def cleanText(corpus):\n",
    "    corpus = [z.lower().replace('\\n','') for z in corpus]\n",
    "    corpus = [z.replace('<br />', ' ') for z in corpus]\n",
    "    corpus = [z.split() for z in corpus]\n",
    "    return corpus\n",
    "\n",
    "x_train = cleanText(x_train)\n",
    "x_test = cleanText(x_test)"
   ]
  },
  {
   "cell_type": "code",
   "execution_count": 10,
   "metadata": {
    "collapsed": false
   },
   "outputs": [],
   "source": [
    "LabeledSentence = gensim.models.doc2vec.LabeledSentence\n",
    "\n",
    "def labelize_reviews(reviews, label_type):\n",
    "    labelized = []\n",
    "    for i,v in enumerate(reviews):\n",
    "        label = '%s_%s'%(label_type,i)\n",
    "        labelized.append(LabeledSentence(v, [label]))\n",
    "    return labelized\n",
    "\n",
    "x_train = labelize_reviews(x_train, 'TRAIN')\n",
    "x_test = labelize_reviews(x_test, 'TEST')"
   ]
  },
  {
   "cell_type": "code",
   "execution_count": 11,
   "metadata": {
    "collapsed": false
   },
   "outputs": [],
   "source": [
    "size = 400\n",
    "\n",
    "#instantiate our DM and DBOW models\n",
    "model_dm = gensim.models.Doc2Vec(min_count=1, window=10, size=size, sample=1e-3, negative=5, workers=4)\n",
    "model_dbow = gensim.models.Doc2Vec(min_count=1, window=10, size=size, sample=1e-3, negative=5, dm=0, workers=4)\n",
    "\n",
    "#build vocab over all reviews\n",
    "model_dm.build_vocab(np.concatenate((x_train, x_test)))\n",
    "model_dbow.build_vocab(np.concatenate((x_train, x_test)))\n"
   ]
  },
  {
   "cell_type": "code",
   "execution_count": 12,
   "metadata": {
    "collapsed": false
   },
   "outputs": [
    {
     "name": "stdout",
     "output_type": "stream",
     "text": [
      "CPU times: user 6min 42s, sys: 3min 54s, total: 10min 36s\n",
      "Wall time: 7min 45s\n"
     ]
    },
    {
     "name": "stderr",
     "output_type": "stream",
     "text": [
      "/usr/local/lib/python3.5/site-packages/gensim/models/word2vec.py:456: UserWarning: C extension compilation failed, training will be slow. Install a C compiler and reinstall gensim for fast training.\n",
      "  warnings.warn(\"C extension compilation failed, training will be slow. Install a C compiler and reinstall gensim for fast training.\")\n"
     ]
    }
   ],
   "source": [
    "%%time\n",
    "x_train = np.array(x_train)\n",
    "for epoch in range(3):\n",
    "    perm = np.random.permutation(x_train.shape[0])\n",
    "    model_dm.train(x_train[perm])\n",
    "    model_dbow.train(x_train[perm])\n",
    "    \n",
    "x_test = np.array(x_test)\n",
    "\n",
    "for epoch in range(3):\n",
    "    perm = np.random.permutation(x_test.shape[0])\n",
    "    model_dm.train(x_test[perm])\n",
    "    model_dbow.train(x_test[perm]) "
   ]
  },
  {
   "cell_type": "code",
   "execution_count": 13,
   "metadata": {
    "collapsed": true
   },
   "outputs": [],
   "source": [
    "def getVecs(model, corpus, size):\n",
    "    vecs = [np.array(model[z.labels[0]]).reshape((1, size)) for z in corpus]\n",
    "    return np.concatenate(vecs)\n",
    "\n",
    "train_vecs_dm = getVecs(model_dm, x_train, size)\n",
    "train_vecs_dbow = getVecs(model_dbow, x_train, size)\n",
    "\n",
    "test_vecs_dm = getVecs(model_dm, x_test, size)\n",
    "test_vecs_dbow = getVecs(model_dbow, x_test, size)"
   ]
  },
  {
   "cell_type": "markdown",
   "metadata": {},
   "source": [
    "# Initial results"
   ]
  },
  {
   "cell_type": "code",
   "execution_count": 14,
   "metadata": {
    "collapsed": false
   },
   "outputs": [
    {
     "name": "stdout",
     "output_type": "stream",
     "text": [
      "Accuracy for Distributed Memory : 0.61\n",
      "Accuracy for Distributed Bag Of Words : 0.61\n"
     ]
    }
   ],
   "source": [
    "#Stochastic Gradient Descent Classifier trained on training data for distributed memory and distributed bag of words\n",
    "intial_svc_dm = SVC(kernel=\"linear\")\n",
    "intial_svc_dm.fit(train_vecs_dm, y_train)\n",
    "\n",
    "print('Accuracy for Distributed Memory : %.2f'%intial_svc_dm.score(test_vecs_dm, y_test))\n",
    "\n",
    "intial_svc_dbow = SVC(kernel=\"linear\")\n",
    "intial_svc_dbow.fit(train_vecs_dbow, y_train)\n",
    "\n",
    "print('Accuracy for Distributed Bag Of Words : %.2f'%intial_svc_dbow.score(test_vecs_dbow, y_test))"
   ]
  },
  {
   "cell_type": "markdown",
   "metadata": {},
   "source": [
    "# Scaling vectors"
   ]
  },
  {
   "cell_type": "code",
   "execution_count": 15,
   "metadata": {
    "collapsed": false,
    "scrolled": false
   },
   "outputs": [
    {
     "name": "stderr",
     "output_type": "stream",
     "text": [
      "/usr/local/lib/python3.5/site-packages/sklearn/preprocessing/data.py:160: UserWarning: Numerical issues were encountered when centering the data and might not be solved. Dataset may contain too large values. You may need to prescale your features.\n",
      "  warnings.warn(\"Numerical issues were encountered \"\n",
      "/usr/local/lib/python3.5/site-packages/sklearn/preprocessing/data.py:177: UserWarning: Numerical issues were encountered when scaling the data and might not be solved. The standard deviation of the data is probably very close to 0. \n",
      "  warnings.warn(\"Numerical issues were encountered \"\n"
     ]
    }
   ],
   "source": [
    "#Scale the vectors \n",
    "scaled_train_vecs_dm = scale(train_vecs_dm)\n",
    "scaled_train_vecs_dbow = scale(train_vecs_dbow)\n",
    "scaled_test_vecs_dm = scale(test_vecs_dm)\n",
    "scaled_test_vecs_dbow = scale(test_vecs_dbow)"
   ]
  },
  {
   "cell_type": "markdown",
   "metadata": {},
   "source": [
    "# Oversampling and Undersampling"
   ]
  },
  {
   "cell_type": "code",
   "execution_count": 16,
   "metadata": {
    "collapsed": false
   },
   "outputs": [],
   "source": [
    "#Over and undersampling models to fight class imbalance\n",
    "ros = RandomOverSampler()\n",
    "\n",
    "ros_dm_y_train = y_train\n",
    "ros_dbow_y_train = y_train\n",
    "ros_scaled_train_vecs_dm = scaled_train_vecs_dm\n",
    "ros_scaled_train_vecs_dbow = scaled_train_vecs_dbow\n",
    "\n",
    "\n",
    "ros_scaled_train_vecs_dm, ros_dm_y_train = ros.fit_sample(ros_scaled_train_vecs_dm, ros_dm_y_train)\n",
    "ros_scaled_train_vecs_dbow, ros_dbow_y_train = ros.fit_sample(ros_scaled_train_vecs_dbow, ros_dbow_y_train)"
   ]
  },
  {
   "cell_type": "code",
   "execution_count": 17,
   "metadata": {
    "collapsed": false
   },
   "outputs": [
    {
     "name": "stdout",
     "output_type": "stream",
     "text": [
      "Distributed Memory - Oversampling\n",
      "-------------------------\n",
      "Accuracy: 0.51 (+/- 0.03)\n",
      "***********************************\n",
      "***********************************\n",
      "Distributed Bag of Words - Oversampling\n",
      "-------------------------\n",
      "Accuracy: 0.51 (+/- 0.03)\n",
      "CPU times: user 4h 23min 21s, sys: 1min, total: 4h 24min 21s\n",
      "Wall time: 6h 29min 42s\n"
     ]
    }
   ],
   "source": [
    "%%time\n",
    "print(\"Distributed Memory - Oversampling\")\n",
    "print(\"-------------------------\")\n",
    "scaledROS_svc_dm = SVC(kernel=\"linear\")\n",
    "\n",
    "scaledROS_svc_dm_score = cross_val_score(scaledROS_svc_dm, ros_scaled_train_vecs_dm ,ros_dm_y_train , cv=10 )\n",
    "\n",
    "print(\"Accuracy: %0.2f (+/- %0.2f)\" % (scaledROS_svc_dm_score.mean(), scaledROS_svc_dm_score.std() * 2))\n",
    "\n",
    "    \n",
    "print(\"***********************************\")\n",
    "print(\"***********************************\")\n",
    "    \n",
    "print(\"Distributed Bag of Words - Oversampling\")\n",
    "print(\"-------------------------\")\n",
    "scaledROS_svc_dbow = SVC(kernel=\"linear\")\n",
    "\n",
    "scaledROS_svc_dbow_score = cross_val_score(scaledROS_svc_dbow, ros_scaled_train_vecs_dbow ,ros_dbow_y_train , cv=10 )\n",
    "\n",
    "print(\"Accuracy: %0.2f (+/- %0.2f)\" % (scaledROS_svc_dbow_score.mean(), scaledROS_svc_dbow_score.std() * 2))"
   ]
  },
  {
   "cell_type": "code",
   "execution_count": 18,
   "metadata": {
    "collapsed": false
   },
   "outputs": [],
   "source": [
    "#Fit both DM and DBOW model vectors to several classifiers after scaling, oversampling and print scores\n",
    "rus = RandomUnderSampler()\n",
    "\n",
    "rus_dm_y_train = y_train\n",
    "rus_dbow_y_train = y_train\n",
    "rus_scaled_train_vecs_dm = scaled_train_vecs_dm\n",
    "rus_scaled_train_vecs_dbow = scaled_train_vecs_dbow\n",
    "\n",
    "rus_scaled_train_vecs_dm, rus_dm_y_train = rus.fit_sample(rus_scaled_train_vecs_dm, rus_dm_y_train)\n",
    "rus_scaled_train_vecs_dbow, rus_dbow_y_train = rus.fit_sample(rus_scaled_train_vecs_dbow, rus_dbow_y_train)\n"
   ]
  },
  {
   "cell_type": "code",
   "execution_count": 19,
   "metadata": {
    "collapsed": false
   },
   "outputs": [
    {
     "name": "stdout",
     "output_type": "stream",
     "text": [
      "Distributed Memory - Undersampling\n",
      "-------------------------\n",
      "Accuracy: 0.47 (+/- 0.06)\n",
      "***********************************\n",
      "***********************************\n",
      "Distributed Bag of Words - Undersampling\n",
      "-------------------------\n",
      "Accuracy: 0.46 (+/- 0.05)\n",
      "CPU times: user 16min 14s, sys: 2.94 s, total: 16min 17s\n",
      "Wall time: 2h 51min 11s\n"
     ]
    }
   ],
   "source": [
    "%%time\n",
    "print(\"Distributed Memory - Undersampling\")\n",
    "print(\"-------------------------\")\n",
    "scaledRUS_svc_dm = SVC(kernel=\"linear\")\n",
    "\n",
    "scaledRUS_svc_dm_score = cross_val_score(scaledRUS_svc_dm, rus_scaled_train_vecs_dm ,rus_dm_y_train, cv=10)\n",
    "\n",
    "print(\"Accuracy: %0.2f (+/- %0.2f)\" % (scaledRUS_svc_dm_score.mean(), scaledRUS_svc_dm_score.std() * 2))\n",
    "\n",
    "    \n",
    "print(\"***********************************\")\n",
    "print(\"***********************************\")\n",
    "    \n",
    "print(\"Distributed Bag of Words - Undersampling\")\n",
    "print(\"-------------------------\")\n",
    "scaledRUS_svc_dbow = SVC(kernel=\"linear\")\n",
    "\n",
    "scaledRUS_svc_dbow_score = cross_val_score(scaledRUS_svc_dm, rus_scaled_train_vecs_dbow ,rus_dbow_y_train, cv=10)\n",
    "\n",
    "print(\"Accuracy: %0.2f (+/- %0.2f)\" % (scaledRUS_svc_dbow_score.mean(), scaledRUS_svc_dbow_score.std() * 2))"
   ]
  },
  {
   "cell_type": "markdown",
   "metadata": {},
   "source": [
    "# Hyper-tuning Parameters"
   ]
  },
  {
   "cell_type": "code",
   "execution_count": 20,
   "metadata": {
    "collapsed": false
   },
   "outputs": [
    {
     "data": {
      "text/plain": [
       "'%%time\\nhyper_svc_dm = SVC(kernel=\"linear\")\\n\\nC_param = [1, 10, 100]\\ngamma_param = [0.001, 0.0001]\\n\\nparam_grid = dict(C=C_param, gamma=gamma_param)\\n\\nclf = GridSearchCV(hyper_svc_dm, param_grid, cv=5, scoring=\\'accuracy\\', verbose=5)\\n\\nclf.fit(train_vecs_dm, y_train)\\n\\nprint(clf.best_score_)\\nprint(clf.best_params_)\\nprint(clf.best_estimator_)\\n'"
      ]
     },
     "execution_count": 20,
     "metadata": {},
     "output_type": "execute_result"
    }
   ],
   "source": [
    "'''%%time\n",
    "hyper_svc_dm = SVC(kernel=\"linear\")\n",
    "\n",
    "C_param = [1, 10, 100]\n",
    "gamma_param = [0.001, 0.0001]\n",
    "\n",
    "param_grid = dict(C=C_param, gamma=gamma_param)\n",
    "\n",
    "clf = GridSearchCV(hyper_svc_dm, param_grid, cv=5, scoring='accuracy', verbose=5)\n",
    "\n",
    "clf.fit(train_vecs_dm, y_train)\n",
    "\n",
    "print(clf.best_score_)\n",
    "print(clf.best_params_)\n",
    "print(clf.best_estimator_)\n",
    "'''"
   ]
  },
  {
   "cell_type": "code",
   "execution_count": 21,
   "metadata": {
    "collapsed": false
   },
   "outputs": [
    {
     "name": "stdout",
     "output_type": "stream",
     "text": [
      "F1 weighted score for DM: 0.4602243727196151\n",
      "F1 micro score for DM: 0.6083613647284959\n",
      "F1 macro score for DM: 0.25216611891245894\n"
     ]
    },
    {
     "name": "stderr",
     "output_type": "stream",
     "text": [
      "/usr/local/lib/python3.5/site-packages/sklearn/metrics/classification.py:1113: UndefinedMetricWarning: F-score is ill-defined and being set to 0.0 in labels with no predicted samples.\n",
      "  'precision', 'predicted', average, warn_for)\n"
     ]
    }
   ],
   "source": [
    "from sklearn.metrics import f1_score\n",
    "\n",
    "f1_svm = SVC(kernel=\"linear\")\n",
    "f1_svm.fit(train_vecs_dm, y_train)\n",
    "f1_y_pred = f1_svm.predict(test_vecs_dm)\n",
    "\n",
    "averages = [\"weighted\", \"micro\", \"macro\"]\n",
    "\n",
    "for avg in averages:\n",
    "    weighted = f1_score(y_test, f1_y_pred, average=avg)\n",
    "    print(\"F1 {} score for DM: {}\".format(avg, weighted))\n",
    "\n",
    "\n"
   ]
  },
  {
   "cell_type": "code",
   "execution_count": 22,
   "metadata": {
    "collapsed": false
   },
   "outputs": [
    {
     "name": "stdout",
     "output_type": "stream",
     "text": [
      "Accuracy score for DM: 0.6083613647284959\n"
     ]
    }
   ],
   "source": [
    "from sklearn.metrics import accuracy_score\n",
    "acc_svm = SVC(kernel=\"linear\")\n",
    "acc_svm.fit(train_vecs_dm, y_train)\n",
    "acc_y_pred = acc_svm.predict(test_vecs_dm)\n",
    "                           \n",
    "acc_weighted = accuracy_score(y_test, acc_y_pred)\n",
    "print(\"Accuracy score for DM: {}\".format(acc_weighted))\n",
    "                           \n"
   ]
  },
  {
   "cell_type": "code",
   "execution_count": 27,
   "metadata": {
    "collapsed": false
   },
   "outputs": [],
   "source": [
    "from imblearn.over_sampling import SMOTE\n",
    "sm = SMOTE(kind='svm')\n",
    "\n",
    "smote_dm_y_train = y_train\n",
    "smote_dbow_y_train = y_train\n",
    "smote_train_vecs_dm = train_vecs_dm\n",
    "smote_train_vecs_dbow = train_vecs_dbow\n",
    "\n",
    "smote_train_vecs_dm, smote_dm_y_train = sm.fit_sample(smote_train_vecs_dm, smote_dm_y_train)\n",
    "smote_train_vecs_dbow, smote_dbow_y_train = sm.fit_sample(smote_train_vecs_dbow, smote_dbow_y_train)"
   ]
  },
  {
   "cell_type": "code",
   "execution_count": 28,
   "metadata": {
    "collapsed": true
   },
   "outputs": [],
   "source": [
    "scaled_smote_train_vecs_dm = scale(smote_train_vecs_dm)\n",
    "scaled_smote_train_vecs_dbow = scale(smote_train_vecs_dbow)"
   ]
  },
  {
   "cell_type": "code",
   "execution_count": 29,
   "metadata": {
    "collapsed": false
   },
   "outputs": [
    {
     "name": "stdout",
     "output_type": "stream",
     "text": [
      "Distributed Memory - SMOTE SVM\n",
      "-------------------------\n",
      "Accuracy: 0.62 (+/- 0.18)\n",
      "***********************************\n",
      "***********************************\n",
      "Distributed Bag of Words - SMOTE SVM\n",
      "-------------------------\n",
      "Accuracy: 0.62 (+/- 0.21)\n"
     ]
    }
   ],
   "source": [
    "print(\"Distributed Memory - SMOTE SVM\")\n",
    "print(\"-------------------------\")\n",
    "smote_svc_dm = SVC(kernel=\"linear\")\n",
    "\n",
    "smote_svc_dm_score = cross_val_score(smote_svc_dm, scaled_smote_train_vecs_dm ,smote_dm_y_train, cv=10)\n",
    "\n",
    "print(\"Accuracy: %0.2f (+/- %0.2f)\" % (smote_svc_dm_score.mean(), smote_svc_dm_score.std() * 2))\n",
    "\n",
    "    \n",
    "print(\"***********************************\")\n",
    "print(\"***********************************\")\n",
    "    \n",
    "print(\"Distributed Bag of Words - SMOTE SVM\")\n",
    "print(\"-------------------------\")\n",
    "smote_svc_dbow = SVC(kernel=\"linear\")\n",
    "\n",
    "smote_svc_dbow_score = cross_val_score(smote_svc_dbow, scaled_smote_train_vecs_dbow ,smote_dbow_y_train, cv=10)\n",
    "\n",
    "print(\"Accuracy: %0.2f (+/- %0.2f)\" % (smote_svc_dbow_score.mean(), smote_svc_dbow_score.std() * 2))\n"
   ]
  },
  {
   "cell_type": "code",
   "execution_count": 46,
   "metadata": {
    "collapsed": false
   },
   "outputs": [
    {
     "name": "stdout",
     "output_type": "stream",
     "text": [
      "             precision    recall  f1-score   support\n",
      "\n",
      "   negative       0.61      0.54      0.58      2532\n",
      "    neutral       0.00      0.00      0.00       962\n",
      "   positive       0.19      0.56      0.29       668\n",
      "\n",
      "avg / total       0.40      0.42      0.40      4162\n",
      "\n"
     ]
    },
    {
     "name": "stderr",
     "output_type": "stream",
     "text": [
      "/usr/local/lib/python3.5/site-packages/sklearn/metrics/classification.py:1113: UndefinedMetricWarning: Precision and F-score are ill-defined and being set to 0.0 in labels with no predicted samples.\n",
      "  'precision', 'predicted', average, warn_for)\n"
     ]
    }
   ],
   "source": [
    "from sklearn.metrics import classification_report\n",
    "\n",
    "\n",
    "smote_svc_dm.fit(smote_train_vecs_dm, smote_dm_y_train )\n",
    "smote_svc_dm_y_pred = smote_svc_dm.predict(scaled_test_vecs_dm)\n",
    "\n",
    "class_names = [\"negative\", \"neutral\", \"positive\"]\n",
    " \n",
    "\n",
    "print(classification_report(y_test, smote_svc_dm_y_pred, target_names=class_names))"
   ]
  },
  {
   "cell_type": "code",
   "execution_count": 30,
   "metadata": {
    "collapsed": true
   },
   "outputs": [],
   "source": [
    "from imblearn.over_sampling import ADASYN\n",
    "ada = ADASYN()\n",
    "\n",
    "ada_dm_y_train = y_train\n",
    "ada_dbow_y_train = y_train\n",
    "ada_train_vecs_dm = train_vecs_dm\n",
    "ada_train_vecs_dbow = train_vecs_dbow\n",
    "\n",
    "ada_train_vecs_dm, ada_dm_y_train = ada.fit_sample(ada_train_vecs_dm, ada_dm_y_train)\n",
    "ada_train_vecs_dbow, ada_dbow_y_train = ada.fit_sample(ada_train_vecs_dbow, ada_dbow_y_train)\n",
    "\n"
   ]
  },
  {
   "cell_type": "code",
   "execution_count": 31,
   "metadata": {
    "collapsed": false
   },
   "outputs": [
    {
     "name": "stderr",
     "output_type": "stream",
     "text": [
      "/usr/local/lib/python3.5/site-packages/sklearn/preprocessing/data.py:160: UserWarning: Numerical issues were encountered when centering the data and might not be solved. Dataset may contain too large values. You may need to prescale your features.\n",
      "  warnings.warn(\"Numerical issues were encountered \"\n",
      "/usr/local/lib/python3.5/site-packages/sklearn/preprocessing/data.py:177: UserWarning: Numerical issues were encountered when scaling the data and might not be solved. The standard deviation of the data is probably very close to 0. \n",
      "  warnings.warn(\"Numerical issues were encountered \"\n"
     ]
    }
   ],
   "source": [
    "scaled_ada_train_vecs_dm = scale(ada_train_vecs_dm)\n",
    "scaled_ada_train_vecs_dbow = scale(ada_train_vecs_dbow)"
   ]
  },
  {
   "cell_type": "code",
   "execution_count": 47,
   "metadata": {
    "collapsed": false
   },
   "outputs": [
    {
     "name": "stdout",
     "output_type": "stream",
     "text": [
      "Distributed Memory - ADASYN\n",
      "-------------------------\n",
      "Accuracy: 0.54 (+/- 0.03)\n",
      "***********************************\n",
      "***********************************\n",
      "Distributed Bag of Words - ADASYN\n",
      "-------------------------\n",
      "Accuracy: 0.52 (+/- 0.05)\n"
     ]
    }
   ],
   "source": [
    "print(\"Distributed Memory - ADASYN\")\n",
    "print(\"-------------------------\")\n",
    "ada_svc_dm = SVC(kernel=\"linear\")\n",
    "\n",
    "ada_svc_dm_score = cross_val_score(ada_svc_dm, scaled_ada_train_vecs_dm, ada_dm_y_train, cv=10)\n",
    "\n",
    "print(\"Accuracy: %0.2f (+/- %0.2f)\" % (ada_svc_dm_score.mean(), ada_svc_dm_score.std() * 2))\n",
    "\n",
    "    \n",
    "print(\"***********************************\")\n",
    "print(\"***********************************\")\n",
    "    \n",
    "print(\"Distributed Bag of Words - ADASYN\")\n",
    "print(\"-------------------------\")\n",
    "ada_svc_dbow = SVC(kernel=\"linear\")\n",
    "\n",
    "ada_svc_dbow_score = cross_val_score(ada_svc_dbow, scaled_ada_train_vecs_dbow, ada_dbow_y_train, cv=10)\n",
    "\n",
    "print(\"Accuracy: %0.2f (+/- %0.2f)\" % (ada_svc_dbow_score.mean(), ada_svc_dbow_score.std() * 2))"
   ]
  },
  {
   "cell_type": "code",
   "execution_count": null,
   "metadata": {
    "collapsed": true
   },
   "outputs": [],
   "source": []
  }
 ],
 "metadata": {
  "kernelspec": {
   "display_name": "Python 3",
   "language": "python",
   "name": "python3"
  },
  "language_info": {
   "codemirror_mode": {
    "name": "ipython",
    "version": 3
   },
   "file_extension": ".py",
   "mimetype": "text/x-python",
   "name": "python",
   "nbconvert_exporter": "python",
   "pygments_lexer": "ipython3",
   "version": "3.6.1"
  }
 },
 "nbformat": 4,
 "nbformat_minor": 0
}
